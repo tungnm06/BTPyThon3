{
 "cells": [
  {
   "cell_type": "code",
   "execution_count": 1,
   "metadata": {},
   "outputs": [],
   "source": [
    "from IPython.core.interactiveshell import InteractiveShell\n",
    "InteractiveShell.ast_node_interactivity = \"all\""
   ]
  },
  {
   "cell_type": "code",
   "execution_count": 13,
   "metadata": {},
   "outputs": [],
   "source": [
    "import random"
   ]
  },
  {
   "cell_type": "code",
   "execution_count": 32,
   "metadata": {},
   "outputs": [
    {
     "data": {
      "text/plain": [
       "'--- --- --- --- --- --- --- --- --- '"
      ]
     },
     "execution_count": 32,
     "metadata": {},
     "output_type": "execute_result"
    }
   ],
   "source": [
    "# BT3-GAME LINES N=9 :\n",
    "\n",
    "def f(n):\n",
    "    c=''\n",
    "    for i in range(0,n):\n",
    "        c= c+ '--- '\n",
    "      \n",
    "    return c\n",
    "f(9)"
   ]
  },
  {
   "cell_type": "code",
   "execution_count": 3,
   "metadata": {},
   "outputs": [],
   "source": [
    "def format_row(row):\n",
    "    return '|' + '|'.join('{0:^3s}'.format(str(x)) for x in row) + '|'"
   ]
  },
  {
   "cell_type": "code",
   "execution_count": 37,
   "metadata": {},
   "outputs": [],
   "source": [
    "def format_board(board):\n",
    "    d=f(9)\n",
    "       \n",
    "    return '\\n'+\" \"+d+'\\n' +str.join('\\n'+\" \"+d+'\\n',(format_row(row) for row in board))+'\\n'+\" \"+d+'\\n'"
   ]
  },
  {
   "cell_type": "code",
   "execution_count": 30,
   "metadata": {},
   "outputs": [],
   "source": [
    "def getlistrandom(listchoice1):\n",
    "    listrandom1=[]\n",
    "    listrandom=[]\n",
    "    x=1\n",
    "    a=\"\"\n",
    "    while(x<10) :\n",
    "        x=x+1\n",
    "    \n",
    "        for i in range(1,10):\n",
    "            b=str(random.choice(listchoice1))\n",
    "            if b=='0' :\n",
    "                b= ' '\n",
    "            listrandom1.append(b)\n",
    "      \n",
    "        listrandom.append(listrandom1)\n",
    "        listrandom1=[]\n",
    "    return listrandom"
   ]
  },
  {
   "cell_type": "code",
   "execution_count": 39,
   "metadata": {},
   "outputs": [
    {
     "name": "stdout",
     "output_type": "stream",
     "text": [
      "\n",
      " --- --- --- --- --- --- --- --- --- \n",
      "|   |   |   |   |   | 9 |   |   |   |\n",
      " --- --- --- --- --- --- --- --- --- \n",
      "| 7 |   | 5 | 7 | 4 |   | 3 |   |   |\n",
      " --- --- --- --- --- --- --- --- --- \n",
      "|   |   |   | 5 | 4 | 1 |   | 6 |   |\n",
      " --- --- --- --- --- --- --- --- --- \n",
      "| 3 | 3 | 8 |   |   | 5 |   |   | 6 |\n",
      " --- --- --- --- --- --- --- --- --- \n",
      "|   | 9 | 7 | 2 |   |   | 5 |   | 3 |\n",
      " --- --- --- --- --- --- --- --- --- \n",
      "| 8 |   | 1 | 9 | 5 | 7 | 5 | 1 |   |\n",
      " --- --- --- --- --- --- --- --- --- \n",
      "|   |   | 8 | 7 | 5 |   | 5 | 6 | 7 |\n",
      " --- --- --- --- --- --- --- --- --- \n",
      "|   |   |   | 9 | 2 |   |   |   | 8 |\n",
      " --- --- --- --- --- --- --- --- --- \n",
      "| 9 | 8 |   | 5 |   |   | 1 |   |   |\n",
      " --- --- --- --- --- --- --- --- --- \n",
      "\n"
     ]
    }
   ],
   "source": [
    "def gamelines():\n",
    "    listchoice = [0,0,0,0,0,1,0,0,0,0,0,2,3,4,5,6,7,8,9]\n",
    "    list1=getlistrandom(listchoice)\n",
    "    a=format_board(list1)\n",
    "    print(a)\n",
    "gamelines()"
   ]
  },
  {
   "cell_type": "code",
   "execution_count": 40,
   "metadata": {},
   "outputs": [],
   "source": [
    "# BT1 - Viết chương trình kiểm tra 1 dict là empty hay không"
   ]
  },
  {
   "cell_type": "code",
   "execution_count": 43,
   "metadata": {},
   "outputs": [],
   "source": [
    "def testdic(dict1):\n",
    "    a= \"\"\n",
    "    if len(dict1)==0 :\n",
    "        a=\"dict rỗng\"\n",
    "    else:\n",
    "        a =\"dict co gia tri\"\n",
    "    return a;"
   ]
  },
  {
   "cell_type": "code",
   "execution_count": 45,
   "metadata": {},
   "outputs": [
    {
     "data": {
      "text/plain": [
       "'dict rỗng'"
      ]
     },
     "execution_count": 45,
     "metadata": {},
     "output_type": "execute_result"
    },
    {
     "data": {
      "text/plain": [
       "'dict co gia tri'"
      ]
     },
     "execution_count": 45,
     "metadata": {},
     "output_type": "execute_result"
    }
   ],
   "source": [
    "dict2={}\n",
    "dict3={'a':3, 'b' : 9, 'c' : 12}\n",
    "testdic(dict2)\n",
    "testdic(dict3)"
   ]
  },
  {
   "cell_type": "code",
   "execution_count": 46,
   "metadata": {},
   "outputs": [],
   "source": [
    "#BT2-Viết chương trình lấy ra giá trị lớn nhất và nhỏ nhất trong 1 dict"
   ]
  },
  {
   "cell_type": "code",
   "execution_count": 47,
   "metadata": {},
   "outputs": [],
   "source": [
    "def minmaxdict(dictx) :\n",
    "    if len(dictx)==0 :\n",
    "        print(\"dict rỗng\")\n",
    "    else :\n",
    "        print(\"mindict = \", min(dictx.values()),\"maxdict =\",max(dictx.values()) )"
   ]
  },
  {
   "cell_type": "code",
   "execution_count": 48,
   "metadata": {},
   "outputs": [
    {
     "name": "stdout",
     "output_type": "stream",
     "text": [
      "dict rỗng\n",
      "mindict =  3 maxdict = 12\n"
     ]
    }
   ],
   "source": [
    "minmaxdict(dict2)\n",
    "minmaxdict(dict3)"
   ]
  },
  {
   "cell_type": "code",
   "execution_count": null,
   "metadata": {},
   "outputs": [],
   "source": []
  }
 ],
 "metadata": {
  "kernelspec": {
   "display_name": "Python 3",
   "language": "python",
   "name": "python3"
  },
  "language_info": {
   "codemirror_mode": {
    "name": "ipython",
    "version": 3
   },
   "file_extension": ".py",
   "mimetype": "text/x-python",
   "name": "python",
   "nbconvert_exporter": "python",
   "pygments_lexer": "ipython3",
   "version": "3.6.5"
  }
 },
 "nbformat": 4,
 "nbformat_minor": 2
}
